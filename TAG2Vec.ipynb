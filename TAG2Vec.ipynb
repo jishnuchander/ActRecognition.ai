{
 "cells": [
  {
   "cell_type": "code",
   "execution_count": null,
   "metadata": {},
   "outputs": [],
   "source": [
    "import pickle"
   ]
  },
  {
   "cell_type": "code",
   "execution_count": null,
   "metadata": {},
   "outputs": [],
   "source": [
    "Acts = ['1Approaching', '2Departing', '4Kicking', '3Pushing', '8Handshaking', '7Hugging', '6Exchanging', \n",
    "        '5Punching']\n",
    "top_dict = {ch:i for i, ch in enumerate(['X', 'DR', 'PO', 'EQ', 'PP', 'PPI'], start=0)}\n",
    "dist_dict = {ch:i for i, ch in enumerate(['X', 'Away', 'Near', 'Close', 'Conn'], start=0)}"
   ]
  },
  {
   "cell_type": "code",
   "execution_count": null,
   "metadata": {},
   "outputs": [],
   "source": [
    "print(top_dict, dist_dict)"
   ]
  },
  {
   "cell_type": "code",
   "execution_count": null,
   "metadata": {
    "scrolled": true
   },
   "outputs": [],
   "source": [
    "maxframes = 46\n",
    "\n",
    "for act in Acts:\n",
    "    file = open('TAG_Results/SBUKI/' + act + '_ExtC9_cw.txt', 'r')\n",
    "    lines = file.readlines()\n",
    "    file.close()\n",
    "\n",
    "    examples = {'topc':[], 'topw':[]}\n",
    "    for line in lines:\n",
    "        rels = line.split()\n",
    "        topc, topw = [], []\n",
    "        frames = int(rels[0])\n",
    "        a = 1\n",
    "        for i in range(frames):\n",
    "            topc.append(list())\n",
    "            for j in range(6):\n",
    "                if j < 5:\n",
    "                    topc[i].append(list())\n",
    "                for k in range(6):\n",
    "                    rel = rels[a].split('-')\n",
    "                    a += 1\n",
    "                    if j == 5 or k == 5:\n",
    "                        continue\n",
    "                    if top_dict[rel[0]] != 0:\n",
    "                        topc[i][j].append([int(i == top_dict[rel[0]]) for i in range(5)])\n",
    "                    else:\n",
    "                        topc[i][j].append([0 for i in range(5)])\n",
    "\n",
    "                    if dist_dict[rel[2]] != 0:\n",
    "                        topc[i][j][k].extend([int(i == dist_dict[rel[2]]) for i in range(4)])\n",
    "                    else:\n",
    "                        topc[i][j][k].extend([0 for i in range(4)])\n",
    "\n",
    "        for i in range(frames, maxframes):\n",
    "            topc.append(list())\n",
    "            for j in range(5):\n",
    "                topc[i].append(list())\n",
    "                for k in range(5):\n",
    "                    topc[i][j].append([0 for i in range(9)])\n",
    "\n",
    "\n",
    "        for i in range(frames):\n",
    "            rel = rels[a].split('-')\n",
    "            a += 1\n",
    "            if top_dict[rel[0]] != 0:\n",
    "                topw.append([int(i == top_dict[rel[0]]) for i in range(5)])\n",
    "            else:\n",
    "                topw.append([0 for i in range(5)])\n",
    "            if dist_dict[rel[2]] != 0:\n",
    "                topw[i].extend([int(i == dist_dict[rel[2]]) for i in range(4)])\n",
    "            else:\n",
    "                topw[i].extend([0 for i in range(4)])\n",
    "\n",
    "        for i in range(frames, maxframes):\n",
    "            topw.append([0 for i in range(9)])\n",
    "\n",
    "\n",
    "        examples['topc'].append(topc)\n",
    "        examples['topw'].append(topw)\n",
    "        \n",
    "#     print(act, topc)\n",
    "    file = open('/' + act + '_v3.pickle', 'wb')\n",
    "    pickle.dump(examples, file)\n",
    "    file.close()"
   ]
  }
 ],
 "metadata": {
  "kernelspec": {
   "display_name": "Python 3",
   "language": "python",
   "name": "python3"
  },
  "language_info": {
   "codemirror_mode": {
    "name": "ipython",
    "version": 3
   },
   "file_extension": ".py",
   "mimetype": "text/x-python",
   "name": "python",
   "nbconvert_exporter": "python",
   "pygments_lexer": "ipython3",
   "version": "3.7.3"
  }
 },
 "nbformat": 4,
 "nbformat_minor": 2
}
