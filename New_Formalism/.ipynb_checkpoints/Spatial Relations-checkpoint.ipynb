{
 "cells": [
  {
   "cell_type": "code",
   "execution_count": 1,
   "metadata": {},
   "outputs": [],
   "source": [
    "import math"
   ]
  },
  {
   "cell_type": "code",
   "execution_count": 23,
   "metadata": {},
   "outputs": [],
   "source": [
    "x1 = 0        # Rectangle coordinates \n",
    "x2 = 3\n",
    "x3 = -5\n",
    "x4 = 5\n",
    "y1 = 1\n",
    "y2 = 4\n",
    "y3 = 5\n",
    "y4 = 8\n",
    "dir1 = 21     # Direction line vector\n",
    "dir2 = 6"
   ]
  },
  {
   "cell_type": "code",
   "execution_count": 24,
   "metadata": {},
   "outputs": [
    {
     "name": "stdout",
     "output_type": "stream",
     "text": [
      "0\n"
     ]
    }
   ],
   "source": [
    "overlap = 0\n",
    "if (x1 >= x4 or x3 >= x3):\n",
    "    overlap = 0\n",
    "if (y2 <= y3 or y4 <= y1):\n",
    "    overlap = 0\n",
    "else:\n",
    "    overlap = 1\n",
    "print(overlap)"
   ]
  },
  {
   "cell_type": "code",
   "execution_count": 25,
   "metadata": {},
   "outputs": [
    {
     "data": {
      "text/plain": [
       "29.054604099077125"
      ]
     },
     "execution_count": 25,
     "metadata": {},
     "output_type": "execute_result"
    }
   ],
   "source": [
    "center1_x = (x1+x2)/2\n",
    "center1_y = (y1+y2)/2\n",
    "theta = math.degrees(math.atan2(-dir2, -dir1)) + 180\n",
    "# theta = theta*-1\n",
    "if theta > 45:\n",
    "    theta -= 45\n",
    "else:\n",
    "    theta = 45 - theta\n",
    "theta"
   ]
  },
  {
   "cell_type": "code",
   "execution_count": 26,
   "metadata": {},
   "outputs": [],
   "source": [
    "x3_shifted = x3 - center1_x   # Shifting to center1 as the origin\n",
    "x4_shifted = x4 - center1_x\n",
    "y3_shifted = y3 - center1_y\n",
    "y4_shifted = y4 - center1_y"
   ]
  },
  {
   "cell_type": "code",
   "execution_count": 27,
   "metadata": {},
   "outputs": [
    {
     "data": {
      "text/plain": [
       "(1.5, 2.5, -6.5, 2.5, 3.5, 5.5)"
      ]
     },
     "execution_count": 27,
     "metadata": {},
     "output_type": "execute_result"
    }
   ],
   "source": [
    "center1_x, center1_y, x3_shifted, y3_shifted, x4_shifted, y4_shifted"
   ]
  },
  {
   "cell_type": "code",
   "execution_count": 28,
   "metadata": {},
   "outputs": [],
   "source": [
    "def rotate(origin, point, angle):\n",
    "    ox, oy = origin\n",
    "    px, py = point\n",
    "    angle = math.radians(angle)\n",
    "    qx = ox + math.cos(angle) * (px - ox) - math.sin(angle) * (py - oy)\n",
    "    qy = oy + math.sin(angle) * (px - ox) + math.cos(angle) * (py - oy)\n",
    "    return qx, qy"
   ]
  },
  {
   "cell_type": "code",
   "execution_count": 29,
   "metadata": {},
   "outputs": [],
   "source": [
    "origin = (0, 0)\n",
    "\n",
    "point1 = (x3_shifted, y3_shifted)\n",
    "point2 = (x3_shifted, y4_shifted)\n",
    "point3 = (x4_shifted, y4_shifted)\n",
    "point4 = (x4_shifted, y3_shifted)\n",
    "\n",
    "pt1 = rotate(origin, point1, theta)\n",
    "pt2 = rotate(origin, point2, theta)\n",
    "pt3 = rotate(origin, point3, theta)\n",
    "pt4 = rotate(origin, point4, theta)"
   ]
  },
  {
   "cell_type": "code",
   "execution_count": 30,
   "metadata": {},
   "outputs": [
    {
     "data": {
      "text/plain": [
       "((-6.896129622736576, -0.9712858623572616),\n",
       " (-8.353058416272471, 1.6511859660073518),\n",
       " (0.3885143449429078, 6.507615277793669),\n",
       " (1.845443138478803, 3.885143449429056))"
      ]
     },
     "execution_count": 30,
     "metadata": {},
     "output_type": "execute_result"
    }
   ],
   "source": [
    "pt1, pt2, pt3, pt4"
   ]
  },
  {
   "cell_type": "code",
   "execution_count": 31,
   "metadata": {},
   "outputs": [],
   "source": [
    "slope1 = (pt2[1] - pt1[1]) / (pt2[0] - pt1[0])\n",
    "slope2 = (pt3[1] - pt2[1]) / (pt3[0] - pt2[0])\n",
    "slope3 = (pt4[1] - pt3[1]) / (pt4[0] - pt3[0])\n",
    "slope4 = (pt1[1] - pt4[1]) / (pt1[0] - pt4[0])\n",
    "\n",
    "c1 = pt1[1] - slope1*pt1[0]\n",
    "c2 = pt2[1] - slope2*pt2[0]\n",
    "c3 = pt3[1] - slope3*pt3[0]\n",
    "c4 = pt4[1] - slope4*pt4[0]"
   ]
  },
  {
   "cell_type": "code",
   "execution_count": 32,
   "metadata": {},
   "outputs": [
    {
     "data": {
      "text/plain": [
       "(-1.8000000000000014,\n",
       " -13.384319183283107,\n",
       " 0.555555555555555,\n",
       " 6.29177397504761,\n",
       " -1.8000000000000014,\n",
       " 7.206941098690904,\n",
       " 0.555555555555555,\n",
       " 2.8598972613852776)"
      ]
     },
     "execution_count": 32,
     "metadata": {},
     "output_type": "execute_result"
    }
   ],
   "source": [
    "slope1, c1, slope2, c2, slope3, c3, slope4, c4"
   ]
  },
  {
   "cell_type": "code",
   "execution_count": 33,
   "metadata": {},
   "outputs": [],
   "source": [
    "def distance(p1, p2):\n",
    "    dist = math.sqrt((p1[0]-p2[0])**2 + (p1[1]-p2[1])**2)\n",
    "    return dist"
   ]
  },
  {
   "cell_type": "code",
   "execution_count": 34,
   "metadata": {},
   "outputs": [],
   "source": [
    "def intercepts(slope, c):\n",
    "    i1 = (0, c)\n",
    "    i2 = (-c/slope, 0)\n",
    "    return i1, i2"
   ]
  },
  {
   "cell_type": "code",
   "execution_count": 35,
   "metadata": {},
   "outputs": [],
   "source": [
    "i11, i12 = intercepts(slope1, c1)\n",
    "i21, i22 = intercepts(slope2, c2)\n",
    "i31, i32 = intercepts(slope3, c3)\n",
    "i41, i42 = intercepts(slope4, c4)"
   ]
  },
  {
   "cell_type": "code",
   "execution_count": 36,
   "metadata": {},
   "outputs": [
    {
     "name": "stdout",
     "output_type": "stream",
     "text": [
      "True\n",
      "True\n",
      "True\n",
      "True\n",
      "4\n"
     ]
    }
   ],
   "source": [
    "ctr = 0\n",
    "intercepts = []\n",
    "if round(distance(pt1, i11) + distance(i11, pt2), 5) == round(distance(pt1, pt2), 5):\n",
    "    print(True)\n",
    "    intercepts.append(i11)\n",
    "    ctr+=1\n",
    "if round(distance(pt1, i12) + distance(i12, pt2), 5) == round(distance(pt1, pt2), 5):\n",
    "    print(True)\n",
    "    intercepts.append(i12)\n",
    "    ctr+=1\n",
    "if round(distance(pt2, i21) + distance(i21, pt3), 5) == round(distance(pt2, pt3), 5):\n",
    "    print(True)\n",
    "    intercepts.append(i21)\n",
    "    ctr+=1\n",
    "if round(distance(pt2, i22) + distance(i22, pt3), 5) == round(distance(pt2, pt3), 5):\n",
    "    print(True)\n",
    "    intercepts.append(i22)\n",
    "    ctr+=1\n",
    "if round(distance(pt3, i31) + distance(i31, pt4), 5) == round(distance(pt3, pt4), 5):\n",
    "    print(True)\n",
    "    intercepts.append(i31)\n",
    "    ctr+=1\n",
    "if round(distance(pt3, i32) + distance(i32, pt4), 5) == round(distance(pt3, pt4), 5):\n",
    "    print(True)\n",
    "    intercepts.append(i32)\n",
    "    ctr+=1\n",
    "if round(distance(pt4, i41) + distance(i41, pt1), 5) == round(distance(pt4, pt1), 5):\n",
    "    print(True)\n",
    "    intercepts.append(i41)\n",
    "    ctr+=1\n",
    "if round(distance(pt4, i42) + distance(i42, pt1), 5) == round(distance(pt4, pt1), 5):\n",
    "    print(True)\n",
    "    intercepts.append(i42)\n",
    "    ctr+=1\n",
    "\n",
    "print(ctr)"
   ]
  },
  {
   "cell_type": "code",
   "execution_count": 37,
   "metadata": {},
   "outputs": [
    {
     "name": "stdout",
     "output_type": "stream",
     "text": [
      "ExtendedOnLeft\n"
     ]
    }
   ],
   "source": [
    "ctr_x_pos = ctr_x_neg = ctr_y_pos = ctr_y_neg = 0\n",
    "\n",
    "if (len(intercepts)==0):\n",
    "    if pt1[0] >= 0 and pt1[1] >= 0:\n",
    "        rel = 'Front'\n",
    "        print('Front')\n",
    "    elif pt1[0] < 0 and pt1[1] >= 0:\n",
    "        rel = 'Left'\n",
    "        print('Left')\n",
    "    elif pt1[0] < 0 and pt1[1] < 0:\n",
    "        rel = 'Back'\n",
    "        print('Back')\n",
    "    elif pt1[0] >= 0 and pt1[1] < 0:\n",
    "        rel = 'Right'\n",
    "        print('Right')\n",
    "elif (len(intercepts)==2):\n",
    "    if intercepts[1][0]==0:\n",
    "        if intercepts[1][1] >= 0:\n",
    "            rel = 'Front&Left'\n",
    "            print('Front&Left')\n",
    "        else:\n",
    "            rel = 'Back&Right'\n",
    "            print('Back&Right')\n",
    "    elif intercepts[1][1]==0:\n",
    "        if intercepts[1][0] >= 0:\n",
    "            rel = 'Front&Right'\n",
    "            print('Front&Right')\n",
    "        else:\n",
    "            rel = 'Back&Left'\n",
    "            print('Back&Left')\n",
    "elif (len(intercepts)==4):\n",
    "    for i in range(len(intercepts)):\n",
    "        if intercepts[i][1]==0:\n",
    "            if intercepts[i][0]>0:\n",
    "                ctr_x_pos +=1\n",
    "            else:\n",
    "                ctr_x_neg +=1\n",
    "        elif intercepts[i][0]==0:\n",
    "            if intercepts[i][1]>0:\n",
    "                ctr_y_pos +=1\n",
    "            else:\n",
    "                ctr_y_neg +=1\n",
    "    if ctr_x_pos==1 and ctr_x_neg==1 and ctr_y_pos==1 and ctr_y_neg==1:\n",
    "        rel = 'AllRegion'\n",
    "        print('AllRegion')\n",
    "    elif ctr_x_pos==2 and ctr_y_pos==2:\n",
    "        rel = 'ExtendedInFront'\n",
    "        print('ExtendedInFront')\n",
    "    elif ctr_x_neg==2 and ctr_y_pos==2:\n",
    "        rel = 'ExtendedOnLeft'\n",
    "        print('ExtendedOnLeft')\n",
    "    elif ctr_x_neg==2 and ctr_y_neg==2:\n",
    "        rel = 'ExtendedInBack'\n",
    "        print('ExtendedInBack')\n",
    "    elif ctr_x_pos==2 and ctr_y_neg==2:\n",
    "        rel = 'ExtendedOnRight'\n",
    "        print('ExtendedOnRight')\n",
    "    else:\n",
    "        print('God Dammit')"
   ]
  },
  {
   "cell_type": "code",
   "execution_count": 38,
   "metadata": {},
   "outputs": [],
   "source": [
    "if overlap == 1:\n",
    "    rel = rel + 'Overlap'"
   ]
  },
  {
   "cell_type": "code",
   "execution_count": 39,
   "metadata": {},
   "outputs": [
    {
     "data": {
      "text/plain": [
       "'ExtendedOnLeft'"
      ]
     },
     "execution_count": 39,
     "metadata": {},
     "output_type": "execute_result"
    }
   ],
   "source": [
    "rel"
   ]
  },
  {
   "cell_type": "code",
   "execution_count": null,
   "metadata": {},
   "outputs": [],
   "source": []
  }
 ],
 "metadata": {
  "kernelspec": {
   "display_name": "Python 3",
   "language": "python",
   "name": "python3"
  },
  "language_info": {
   "codemirror_mode": {
    "name": "ipython",
    "version": 3
   },
   "file_extension": ".py",
   "mimetype": "text/x-python",
   "name": "python",
   "nbconvert_exporter": "python",
   "pygments_lexer": "ipython3",
   "version": "3.7.3"
  }
 },
 "nbformat": 4,
 "nbformat_minor": 2
}
